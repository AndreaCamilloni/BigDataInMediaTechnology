{
  "cells": [
    {
      "cell_type": "markdown",
      "metadata": {
        "id": "view-in-github",
        "colab_type": "text"
      },
      "source": [
        "<a href=\"https://colab.research.google.com/github/AndreaCamilloni/BigDataInMediaTechnology/blob/main/Lab2.ipynb\" target=\"_parent\"><img src=\"https://colab.research.google.com/assets/colab-badge.svg\" alt=\"Open In Colab\"/></a>"
      ]
    },
    {
      "cell_type": "code",
      "execution_count": 1,
      "metadata": {
        "colab": {
          "base_uri": "https://localhost:8080/"
        },
        "id": "f1NZ0Ilw3lgi",
        "outputId": "8c65b8e5-aaf8-43ff-9a12-b4d6ab5a60ba"
      },
      "outputs": [
        {
          "output_type": "stream",
          "name": "stdout",
          "text": [
            "Looking in indexes: https://pypi.org/simple, https://us-python.pkg.dev/colab-wheels/public/simple/\n",
            "Collecting emoji\n",
            "  Downloading emoji-2.1.0.tar.gz (216 kB)\n",
            "\u001b[K     |████████████████████████████████| 216 kB 26.5 MB/s \n",
            "\u001b[?25hBuilding wheels for collected packages: emoji\n",
            "  Building wheel for emoji (setup.py) ... \u001b[?25l\u001b[?25hdone\n",
            "  Created wheel for emoji: filename=emoji-2.1.0-py3-none-any.whl size=212392 sha256=a2b624145280df0d45484acf722eddb78f1dbf98822f027971e149208f6b5f1e\n",
            "  Stored in directory: /root/.cache/pip/wheels/77/75/99/51c2a119f4cfd3af7b49cc57e4f737bed7e40b348a85d82804\n",
            "Successfully built emoji\n",
            "Installing collected packages: emoji\n",
            "Successfully installed emoji-2.1.0\n",
            "Looking in indexes: https://pypi.org/simple, https://us-python.pkg.dev/colab-wheels/public/simple/\n",
            "Collecting contractions\n",
            "  Downloading contractions-0.1.72-py2.py3-none-any.whl (8.3 kB)\n",
            "Collecting textsearch>=0.0.21\n",
            "  Downloading textsearch-0.0.24-py2.py3-none-any.whl (7.6 kB)\n",
            "Collecting pyahocorasick\n",
            "  Downloading pyahocorasick-1.4.4-cp37-cp37m-manylinux_2_17_x86_64.manylinux2014_x86_64.whl (106 kB)\n",
            "\u001b[K     |████████████████████████████████| 106 kB 21.5 MB/s \n",
            "\u001b[?25hCollecting anyascii\n",
            "  Downloading anyascii-0.3.1-py3-none-any.whl (287 kB)\n",
            "\u001b[K     |████████████████████████████████| 287 kB 51.6 MB/s \n",
            "\u001b[?25hInstalling collected packages: pyahocorasick, anyascii, textsearch, contractions\n",
            "Successfully installed anyascii-0.3.1 contractions-0.1.72 pyahocorasick-1.4.4 textsearch-0.0.24\n"
          ]
        }
      ],
      "source": [
        "!pip install emoji\n",
        "!pip install contractions"
      ]
    },
    {
      "cell_type": "code",
      "execution_count": 2,
      "metadata": {
        "id": "gfauecKOjHwg",
        "colab": {
          "base_uri": "https://localhost:8080/"
        },
        "outputId": "4bea525c-b215-4d45-e097-68b8d901276a"
      },
      "outputs": [
        {
          "output_type": "stream",
          "name": "stdout",
          "text": [
            "Mounted at /content/drive/\n"
          ]
        }
      ],
      "source": [
        "from google.colab import drive\n",
        "drive.mount(\"/content/drive/\")"
      ]
    },
    {
      "cell_type": "code",
      "execution_count": 3,
      "metadata": {
        "id": "IT6V4NbFkQak"
      },
      "outputs": [],
      "source": [
        "import pandas as pd\n",
        "import seaborn as sns\n",
        "import matplotlib.pyplot as plt\n"
      ]
    },
    {
      "cell_type": "code",
      "execution_count": 4,
      "metadata": {
        "id": "XJwj2BPqj88-",
        "colab": {
          "base_uri": "https://localhost:8080/"
        },
        "outputId": "aec4d7de-35c2-4b75-ff9f-12fa3b16f3f8"
      },
      "outputs": [
        {
          "output_type": "execute_result",
          "data": {
            "text/plain": [
              "(15000, 5000, 10000)"
            ]
          },
          "metadata": {},
          "execution_count": 4
        }
      ],
      "source": [
        "path = \"/content/drive/MyDrive/Group2/Lab1/\"\n",
        "\n",
        "train_data = pd.read_csv(path + 'train.csv')\n",
        "test_data = pd.read_csv(path + 'test.csv')\n",
        "valid_data = pd.read_csv(path + 'evaluation.csv')\n",
        "\n",
        "train_data.size, test_data.size, valid_data.size"
      ]
    },
    {
      "cell_type": "markdown",
      "metadata": {
        "id": "XeqW6GoqTcqL"
      },
      "source": [
        "# Data Visualization"
      ]
    },
    {
      "cell_type": "code",
      "execution_count": 5,
      "metadata": {
        "id": "hbMthhSHxAZx",
        "colab": {
          "base_uri": "https://localhost:8080/"
        },
        "outputId": "e7f9d0c5-dea2-4745-a49a-75c8bf5df375"
      },
      "outputs": [
        {
          "output_type": "stream",
          "name": "stdout",
          "text": [
            "Distribution of the scores\n",
            "Training data:  3752 , 3748\n",
            "Test data:  1248 , 1252\n",
            "Validation data:  2518 , 2482\n"
          ]
        }
      ],
      "source": [
        "print(\"Distribution of the scores\")\n",
        "print(\"Training data: \",train_data[train_data.score==1].score.count(),\",\" ,train_data[train_data.score==0].score.count())\n",
        "print(\"Test data: \", test_data[test_data.score==1].score.count(), \",\" , test_data[test_data.score==0].score.count())\n",
        "print(\"Validation data: \",valid_data[valid_data.score==1].score.count(), \",\" , valid_data[valid_data.score==0].score.count())"
      ]
    },
    {
      "cell_type": "code",
      "execution_count": 6,
      "metadata": {
        "id": "O2RmAg02w8az",
        "colab": {
          "base_uri": "https://localhost:8080/",
          "height": 281
        },
        "outputId": "4d7f4db5-0fa1-48a5-b7df-45f6e61e7265"
      },
      "outputs": [
        {
          "output_type": "display_data",
          "data": {
            "text/plain": [
              "<Figure size 432x288 with 1 Axes>"
            ],
            "image/png": "[encoded data removed]"
          },
          "metadata": {
            "needs_background": "light"
          }
        }
      ],
      "source": [
        "f = sns.countplot(x='score', data=test_data)\n",
        "f.set_title(\"Sentiment distribution\")\n",
        "f.set_xticklabels(['Negative', 'Positive'])\n",
        "plt.xlabel(\"\");"
      ]
    },
    {
      "cell_type": "code",
      "execution_count": 7,
      "metadata": {
        "id": "nanxQdAlnolc",
        "colab": {
          "base_uri": "https://localhost:8080/",
          "height": 677
        },
        "outputId": "5db5b9ff-f913-4af4-cdf5-5c0197324b58"
      },
      "outputs": [
        {
          "output_type": "execute_result",
          "data": {
            "text/plain": [
              "    score                                               text\n",
              "0       0  overgeneralized, not helpful to anyone serious...\n",
              "1       1                           Great sound and service.\n",
              "2       1  love this book!!!: this book is a fast read ab...\n",
              "3       1  A hugely enjoyable screen version of Rona Jaff...\n",
              "4       0  What an uninteresting hodge-podge. It could ha...\n",
              "5       1  @USAirways customer service at its best! Rache...\n",
              "6       0  @VirginAmerica Is it normal to receive no repl...\n",
              "7       0  Imagine the worst skits from Saturday Night Li...\n",
              "8       0  This is one of the worst films ever. I like ch...\n",
              "9       1  @JetBlue flight attendant Wendi on Flt 127 on ...\n",
              "10      0  This film stars, among others, \"SlapChop\" Vinc...\n",
              "11      0  @united This isn't a one time thing either! It...\n",
              "12      1  It seems a lot of IMDB comments on this film a...\n",
              "13      1  I always wondered what happened with that magi...\n",
              "14      1  eye opening: when i think of poetry i put roet...\n",
              "15      0  Mercy the movie, actually starts out as a some...\n",
              "16      1  I like the good and evil battle. I liked Eddie...\n",
              "17      1  Unlike the previous poster, I liked the cellul...\n",
              "18      1  I was looking for this headset for a long time...\n",
              "19      0  @united mobile apps need construction from the..."
            ],
            "text/html": [
              "\n",
              "  <div id=\"df-28727e02-6eff-4cbb-8e1b-692d39c068c7\">\n",
              "    <div class=\"colab-df-container\">\n",
              "      <div>\n",
              "<style scoped>\n",
              "    .dataframe tbody tr th:only-of-type {\n",
              "        vertical-align: middle;\n",
              "    }\n",
              "\n",
              "    .dataframe tbody tr th {\n",
              "        vertical-align: top;\n",
              "    }\n",
              "\n",
              "    .dataframe thead th {\n",
              "        text-align: right;\n",
              "    }\n",
              "</style>\n",
              "<table border=\"1\" class=\"dataframe\">\n",
              "  <thead>\n",
              "    <tr style=\"text-align: right;\">\n",
              "      <th></th>\n",
              "      <th>score</th>\n",
              "      <th>text</th>\n",
              "    </tr>\n",
              "  </thead>\n",
              "  <tbody>\n",
              "    <tr>\n",
              "      <th>0</th>\n",
              "      <td>0</td>\n",
              "      <td>overgeneralized, not helpful to anyone serious...</td>\n",
              "    </tr>\n",
              "    <tr>\n",
              "      <th>1</th>\n",
              "      <td>1</td>\n",
              "      <td>Great sound and service.</td>\n",
              "    </tr>\n",
              "    <tr>\n",
              "      <th>2</th>\n",
              "      <td>1</td>\n",
              "      <td>love this book!!!: this book is a fast read ab...</td>\n",
              "    </tr>\n",
              "    <tr>\n",
              "      <th>3</th>\n",
              "      <td>1</td>\n",
              "      <td>A hugely enjoyable screen version of Rona Jaff...</td>\n",
              "    </tr>\n",
              "    <tr>\n",
              "      <th>4</th>\n",
              "      <td>0</td>\n",
              "      <td>What an uninteresting hodge-podge. It could ha...</td>\n",
              "    </tr>\n",
              "    <tr>\n",
              "      <th>5</th>\n",
              "      <td>1</td>\n",
              "      <td>@USAirways customer service at its best! Rache...</td>\n",
              "    </tr>\n",
              "    <tr>\n",
              "      <th>6</th>\n",
              "      <td>0</td>\n",
              "      <td>@VirginAmerica Is it normal to receive no repl...</td>\n",
              "    </tr>\n",
              "    <tr>\n",
              "      <th>7</th>\n",
              "      <td>0</td>\n",
              "      <td>Imagine the worst skits from Saturday Night Li...</td>\n",
              "    </tr>\n",
              "    <tr>\n",
              "      <th>8</th>\n",
              "      <td>0</td>\n",
              "      <td>This is one of the worst films ever. I like ch...</td>\n",
              "    </tr>\n",
              "    <tr>\n",
              "      <th>9</th>\n",
              "      <td>1</td>\n",
              "      <td>@JetBlue flight attendant Wendi on Flt 127 on ...</td>\n",
              "    </tr>\n",
              "    <tr>\n",
              "      <th>10</th>\n",
              "      <td>0</td>\n",
              "      <td>This film stars, among others, \"SlapChop\" Vinc...</td>\n",
              "    </tr>\n",
              "    <tr>\n",
              "      <th>11</th>\n",
              "      <td>0</td>\n",
              "      <td>@united This isn't a one time thing either! It...</td>\n",
              "    </tr>\n",
              "    <tr>\n",
              "      <th>12</th>\n",
              "      <td>1</td>\n",
              "      <td>It seems a lot of IMDB comments on this film a...</td>\n",
              "    </tr>\n",
              "    <tr>\n",
              "      <th>13</th>\n",
              "      <td>1</td>\n",
              "      <td>I always wondered what happened with that magi...</td>\n",
              "    </tr>\n",
              "    <tr>\n",
              "      <th>14</th>\n",
              "      <td>1</td>\n",
              "      <td>eye opening: when i think of poetry i put roet...</td>\n",
              "    </tr>\n",
              "    <tr>\n",
              "      <th>15</th>\n",
              "      <td>0</td>\n",
              "      <td>Mercy the movie, actually starts out as a some...</td>\n",
              "    </tr>\n",
              "    <tr>\n",
              "      <th>16</th>\n",
              "      <td>1</td>\n",
              "      <td>I like the good and evil battle. I liked Eddie...</td>\n",
              "    </tr>\n",
              "    <tr>\n",
              "      <th>17</th>\n",
              "      <td>1</td>\n",
              "      <td>Unlike the previous poster, I liked the cellul...</td>\n",
              "    </tr>\n",
              "    <tr>\n",
              "      <th>18</th>\n",
              "      <td>1</td>\n",
              "      <td>I was looking for this headset for a long time...</td>\n",
              "    </tr>\n",
              "    <tr>\n",
              "      <th>19</th>\n",
              "      <td>0</td>\n",
              "      <td>@united mobile apps need construction from the...</td>\n",
              "    </tr>\n",
              "  </tbody>\n",
              "</table>\n",
              "</div>\n",
              "      <button class=\"colab-df-convert\" onclick=\"convertToInteractive('df-28727e02-6eff-4cbb-8e1b-692d39c068c7')\"\n",
              "              title=\"Convert this dataframe to an interactive table.\"\n",
              "              style=\"display:none;\">\n",
              "        \n",
              "  <svg xmlns=\"http://www.w3.org/2000/svg\" height=\"24px\"viewBox=\"0 0 24 24\"\n",
              "       width=\"24px\">\n",
              "    <path d=\"M0 0h24v24H0V0z\" fill=\"none\"/>\n",
              "    <path d=\"M18.56 5.44l.94 2.06.94-2.06 2.06-.94-2.06-.94-.94-2.06-.94 2.06-2.06.94zm-11 1L8.5 8.5l.94-2.06 2.06-.94-2.06-.94L8.5 2.5l-.94 2.06-2.06.94zm10 10l.94 2.06.94-2.06 2.06-.94-2.06-.94-.94-2.06-.94 2.06-2.06.94z\"/><path d=\"M17.41 7.96l-1.37-1.37c-.4-.4-.92-.59-1.43-.59-.52 0-1.04.2-1.43.59L10.3 9.45l-7.72 7.72c-.78.78-.78 2.05 0 2.83L4 21.41c.39.39.9.59 1.41.59.51 0 1.02-.2 1.41-.59l7.78-7.78 2.81-2.81c.8-.78.8-2.07 0-2.86zM5.41 20L4 18.59l7.72-7.72 1.47 1.35L5.41 20z\"/>\n",
              "  </svg>\n",
              "      </button>\n",
              "      \n",
              "  <style>\n",
              "    .colab-df-container {\n",
              "      display:flex;\n",
              "      flex-wrap:wrap;\n",
              "      gap: 12px;\n",
              "    }\n",
              "\n",
              "    .colab-df-convert {\n",
              "      background-color: #E8F0FE;\n",
              "      border: none;\n",
              "      border-radius: 50%;\n",
              "      cursor: pointer;\n",
              "      display: none;\n",
              "      fill: #1967D2;\n",
              "      height: 32px;\n",
              "      padding: 0 0 0 0;\n",
              "      width: 32px;\n",
              "    }\n",
              "\n",
              "    .colab-df-convert:hover {\n",
              "      background-color: #E2EBFA;\n",
              "      box-shadow: 0px 1px 2px rgba(60, 64, 67, 0.3), 0px 1px 3px 1px rgba(60, 64, 67, 0.15);\n",
              "      fill: #174EA6;\n",
              "    }\n",
              "\n",
              "    [theme=dark] .colab-df-convert {\n",
              "      background-color: #3B4455;\n",
              "      fill: #D2E3FC;\n",
              "    }\n",
              "\n",
              "    [theme=dark] .colab-df-convert:hover {\n",
              "      background-color: #434B5C;\n",
              "      box-shadow: 0px 1px 3px 1px rgba(0, 0, 0, 0.15);\n",
              "      filter: drop-shadow(0px 1px 2px rgba(0, 0, 0, 0.3));\n",
              "      fill: #FFFFFF;\n",
              "    }\n",
              "  </style>\n",
              "\n",
              "      <script>\n",
              "        const buttonEl =\n",
              "          document.querySelector('#df-28727e02-6eff-4cbb-8e1b-692d39c068c7 button.colab-df-convert');\n",
              "        buttonEl.style.display =\n",
              "          google.colab.kernel.accessAllowed ? 'block' : 'none';\n",
              "\n",
              "        async function convertToInteractive(key) {\n",
              "          const element = document.querySelector('#df-28727e02-6eff-4cbb-8e1b-692d39c068c7');\n",
              "          const dataTable =\n",
              "            await google.colab.kernel.invokeFunction('convertToInteractive',\n",
              "                                                     [key], {});\n",
              "          if (!dataTable) return;\n",
              "\n",
              "          const docLinkHtml = 'Like what you see? Visit the ' +\n",
              "            '<a target=\"_blank\" href=https://colab.research.google.com/notebooks/data_table.ipynb>data table notebook</a>'\n",
              "            + ' to learn more about interactive tables.';\n",
              "          element.innerHTML = '';\n",
              "          dataTable['output_type'] = 'display_data';\n",
              "          await google.colab.output.renderOutput(dataTable, element);\n",
              "          const docLink = document.createElement('div');\n",
              "          docLink.innerHTML = docLinkHtml;\n",
              "          element.appendChild(docLink);\n",
              "        }\n",
              "      </script>\n",
              "    </div>\n",
              "  </div>\n",
              "  "
            ]
          },
          "metadata": {},
          "execution_count": 7
        }
      ],
      "source": [
        "pd.set_option('display.max_columns', None) #for display purpose\n",
        "train_data.head(20)"
      ]
    },
    {
      "cell_type": "markdown",
      "metadata": {
        "id": "-xOox_yOng0y"
      },
      "source": [
        "# Pre-processing\n",
        "\n",
        "\n",
        "*   Emojis and hashtags extraction\n",
        "*   Data cleaning: html tags, new lines, http links, mentions, hashtags, emojis, contractions, punctuations, numbers, upper case letters and stop words\n",
        "\n"
      ]
    },
    {
      "cell_type": "code",
      "execution_count": 8,
      "metadata": {
        "id": "Pww1c8zWnliw"
      },
      "outputs": [],
      "source": [
        "import re\n",
        "import emoji"
      ]
    },
    {
      "cell_type": "code",
      "execution_count": 9,
      "metadata": {
        "id": "7xGDJCHJZmdo"
      },
      "outputs": [],
      "source": [
        "def extract_emojis(text):\n",
        "  return ','.join(c for c in text if c in emoji.EMOJI_DATA)\n",
        "\n",
        "def extract_hash_tags(s):\n",
        "    return ','.join(part[1:] for part in s.split() if part.startswith('#'))\n",
        "\n",
        "\n",
        "train_data['emoji']=train_data['text'].apply(lambda f : extract_emojis(f))\n",
        "train_data['hashtags']=train_data['text'].apply(lambda f : extract_hash_tags(f))\n",
        "\n",
        "test_data['emoji']=test_data['text'].apply(lambda f : extract_emojis(f))\n",
        "test_data['hashtags']=test_data['text'].apply(lambda f : extract_hash_tags(f))\n",
        "\n",
        "valid_data['emoji']=valid_data['text'].apply(lambda f : extract_emojis(f))\n",
        "valid_data['hashtags']=valid_data['text'].apply(lambda f : extract_hash_tags(f))\n"
      ]
    },
    {
      "cell_type": "code",
      "execution_count": 10,
      "metadata": {
        "id": "b1U7-bOwq0wd"
      },
      "outputs": [],
      "source": [
        "import string\n",
        "import contractions\n",
        "\n",
        "def preprocess(s):\n",
        "    #remove html tags\n",
        "    CLEANR = re.compile('<.*?>|&([a-z0-9]+|#[0-9]{1,6}|#x[0-9a-f]{1,6});')\n",
        "    result = re.sub(CLEANR,'',s)\n",
        "    #remove newline \n",
        "    result = re.sub(r'\\\\t|\\\\n|\\\\r\", \"\\t|\\n|\\r', '', result) \n",
        "    #remove http link\n",
        "    result = re.sub(r'http\\S+', '', result)\n",
        "    #remove mention\n",
        "    result = re.sub(r'@\\S+', '', result)\n",
        "    #remove hashtags\n",
        "    result = re.sub(r'#\\S+', '', result)\n",
        "    #remove emojis\n",
        "    CLEANR = re.compile(pattern = \"[\"\n",
        "        u\"\\U0001F600-\\U0001F64F\"  # emoticons\n",
        "        u\"\\U0001F300-\\U0001F5FF\"  # symbols & pictographs\n",
        "        u\"\\U0001F680-\\U0001F6FF\"  # transport & map symbols\n",
        "        u\"\\U0001F1E0-\\U0001F1FF\"  # flags (iOS)\n",
        "                           \"]+\", flags = re.UNICODE)\n",
        "    result = re.sub(CLEANR, '', result)\n",
        "    #remove contractions\n",
        "    result = contractions.fix(result)\n",
        "    #remove punctuation\n",
        "    result = result.translate(str.maketrans(' ', ' ', string.punctuation))\n",
        "\n",
        "    #remove number\n",
        "    result = re.sub(\"^\\d+\\s|\\s\\d+\\s|\\s\\d+$\", \" \", result)\n",
        "    \n",
        "\n",
        "    return result\n",
        "\n",
        "\n",
        "train_data['text_preprocessed']=train_data['text'].apply(lambda f : preprocess(f))\n",
        "test_data['text_preprocessed']=test_data['text'].apply(lambda f : preprocess(f))\n",
        "valid_data['text_preprocessed']=valid_data['text'].apply(lambda f : preprocess(f))\n"
      ]
    },
    {
      "cell_type": "code",
      "execution_count": 11,
      "metadata": {
        "id": "1ynV8LhCUTjH",
        "colab": {
          "base_uri": "https://localhost:8080/",
          "height": 1000
        },
        "outputId": "59863459-6895-400b-d450-d4a7ec3ed843"
      },
      "outputs": [
        {
          "output_type": "execute_result",
          "data": {
            "text/plain": [
              "    score                                               text emoji  \\\n",
              "0       0  overgeneralized, not helpful to anyone serious...         \n",
              "1       1                           Great sound and service.         \n",
              "2       1  love this book!!!: this book is a fast read ab...         \n",
              "3       1  A hugely enjoyable screen version of Rona Jaff...         \n",
              "4       0  What an uninteresting hodge-podge. It could ha...         \n",
              "5       1  @USAirways customer service at its best! Rache...         \n",
              "6       0  @VirginAmerica Is it normal to receive no repl...         \n",
              "7       0  Imagine the worst skits from Saturday Night Li...         \n",
              "8       0  This is one of the worst films ever. I like ch...         \n",
              "9       1  @JetBlue flight attendant Wendi on Flt 127 on ...   👍,👍   \n",
              "10      0  This film stars, among others, \"SlapChop\" Vinc...         \n",
              "11      0  @united This isn't a one time thing either! It...         \n",
              "12      1  It seems a lot of IMDB comments on this film a...         \n",
              "13      1  I always wondered what happened with that magi...         \n",
              "14      1  eye opening: when i think of poetry i put roet...         \n",
              "15      0  Mercy the movie, actually starts out as a some...         \n",
              "16      1  I like the good and evil battle. I liked Eddie...         \n",
              "17      1  Unlike the previous poster, I liked the cellul...         \n",
              "18      1  I was looking for this headset for a long time...         \n",
              "19      0  @united mobile apps need construction from the...         \n",
              "20      1  @united please give special thanks to Aaron in...         \n",
              "21      1  I am appalled and dismayed that the Network ha...         \n",
              "22      1  Phone now holds charge like it did when it was...         \n",
              "23      1  I was never a big fan of television until I wa...         \n",
              "24      0  awful product!: don't buy the badgemaker or th...         \n",
              "25      0  Let me state this right from the start. I do N...         \n",
              "26      1  @JetBlue it's been a while since I've angry tw...         \n",
              "27      1           @VirginAmerica got it. All set - Thanks!         \n",
              "28      1  astonishingly bright and easy to operate: i us...         \n",
              "29      1                             Exactly what I wanted.         \n",
              "30      1  This movie has remained in my mind for years a...         \n",
              "31      0  I had heard good things about \"States of Grace...         \n",
              "32      1  @AmericanAir I hope you like the photo :) http...         \n",
              "33      1  One of John Ford's best films 'The Informer' d...         \n",
              "34      1  CAT SOUP has two \"Hello Kitty\"-type kittens em...         \n",
              "35      0  I watched it with my mom and we were like...<b...         \n",
              "36      1  good product: i bought one and it worked so we...         \n",
              "37      1  Alain Resnais films are uncanny in the way tha...         \n",
              "38      0  I can't believe I waste my time watching this ...         \n",
              "39      1  an eye-opener for all women, especially the ov...         \n",
              "40      1                                  @united thank you         \n",
              "41      1  this was a gift! i was a hero! il volo was per...         \n",
              "42      1  @JetBlue Thank you. I really would have prefer...         \n",
              "43      0         @united accordingly? U dont respond at all         \n",
              "44      1                   @SouthwestAir Deborah helped me💁     💁   \n",
              "45      0  man was this hard to watch! it was not at all ...         \n",
              "46      1  captain america/captain america 0: death too s...         \n",
              "47      0  you'll be tromatised by the picture quality: f...         \n",
              "48      1  Full House came to me when I was about 9. I re...         \n",
              "49      0  second cuisinart that has had an early demise:...         \n",
              "\n",
              "             hashtags                                  text_preprocessed  \n",
              "0                      overgeneralized not helpful to anyone seriousl...  \n",
              "1                                                Great sound and service  \n",
              "2                      love this book this book is a fast read about ...  \n",
              "3                      A hugely enjoyable screen version of Rona Jaff...  \n",
              "4                      What an uninteresting hodgepodge It could have...  \n",
              "5                       customer service at its best Rachel S  took g...  \n",
              "6   baggageissues,smh   Is it normal to receive no reply from Central...  \n",
              "7                      Imagine the worst skits from Saturday Night Li...  \n",
              "8                      This is one of the worst films ever I like che...  \n",
              "9                       flight attendant Wendi on Flt on Newark to Or...  \n",
              "10                     This film stars among others SlapChop Vince Of...  \n",
              "11                      This is not a one time thing either It is a s...  \n",
              "12                     It seems a lot of IMDB comments on this film a...  \n",
              "13                     I always wondered what happened with that magi...  \n",
              "14                     eye opening when i think of poetry i put roeth...  \n",
              "15                     Mercy the movie actually starts out as a somew...  \n",
              "16                     I like the good and evil battle I liked Eddie ...  \n",
              "17                     Unlike the previous poster I liked the cellulo...  \n",
              "18                     I was looking for this headset for a long time...  \n",
              "19                      mobile apps need construction from the ground...  \n",
              "20                      please give special thanks to Aaron in Tampa ...  \n",
              "21                     I am appalled and dismayed that the Network ha...  \n",
              "22                     Phone now holds charge like it did when it was...  \n",
              "23                     I was never a big fan of television until I wa...  \n",
              "24                     awful product do not buy the badgemaker or the...  \n",
              "25                     Let me state this right from the start I do NO...  \n",
              "26                      it is been a while since I have angry tweeted...  \n",
              "27                                                got it All set  Thanks  \n",
              "28                     astonishingly bright and easy to operate i use...  \n",
              "29                                                 Exactly what I wanted  \n",
              "30                     This movie has remained in my mind for years a...  \n",
              "31                     I had heard good things about States of Grace ...  \n",
              "32                                           I hope you like the photo    \n",
              "33                     One of John Fords best films The Informer does...  \n",
              "34                     CAT SOUP has two Hello Kittytype kittens embar...  \n",
              "35                     I watched it with my mom and we were likeWhat ...  \n",
              "36                     good product i bought one and it worked so wel...  \n",
              "37                     Alain Resnais films are uncanny in the way tha...  \n",
              "38                     I cannot believe I waste my time watching this...  \n",
              "39                     an eyeopener for all women especially the over...  \n",
              "40                                                             thank you  \n",
              "41                     this was a gift i was a hero il volo was perfe...  \n",
              "42                      Thank you I really would have preferred Jet B...  \n",
              "43                                 accordingly YOU do not respond at all  \n",
              "44                                                     Deborah helped me  \n",
              "45                     man was this hard to watch it was not at all f...  \n",
              "46                     captain americacaptain america death too soon ...  \n",
              "47                     you will be tromatised by the picture quality ...  \n",
              "48                     Full House came to me when I was about I remem...  \n",
              "49                     second cuisinart that has had an early demise ...  "
            ],
            "text/html": [
              "\n",
              "  <div id=\"df-1d147fa4-a50f-408d-ac27-af299f13ec5a\">\n",
              "    <div class=\"colab-df-container\">\n",
              "      <div>\n",
              "<style scoped>\n",
              "    .dataframe tbody tr th:only-of-type {\n",
              "        vertical-align: middle;\n",
              "    }\n",
              "\n",
              "    .dataframe tbody tr th {\n",
              "        vertical-align: top;\n",
              "    }\n",
              "\n",
              "    .dataframe thead th {\n",
              "        text-align: right;\n",
              "    }\n",
              "</style>\n",
              "<table border=\"1\" class=\"dataframe\">\n",
              "  <thead>\n",
              "    <tr style=\"text-align: right;\">\n",
              "      <th></th>\n",
              "      <th>score</th>\n",
              "      <th>text</th>\n",
              "      <th>emoji</th>\n",
              "      <th>hashtags</th>\n",
              "      <th>text_preprocessed</th>\n",
              "    </tr>\n",
              "  </thead>\n",
              "  <tbody>\n",
              "    <tr>\n",
              "      <th>0</th>\n",
              "      <td>0</td>\n",
              "      <td>overgeneralized, not helpful to anyone serious...</td>\n",
              "      <td></td>\n",
              "      <td></td>\n",
              "      <td>overgeneralized not helpful to anyone seriousl...</td>\n",
              "    </tr>\n",
              "    <tr>\n",
              "      <th>1</th>\n",
              "      <td>1</td>\n",
              "      <td>Great sound and service.</td>\n",
              "      <td></td>\n",
              "      <td></td>\n",
              "      <td>Great sound and service</td>\n",
              "    </tr>\n",
              "    <tr>\n",
              "      <th>2</th>\n",
              "      <td>1</td>\n",
              "      <td>love this book!!!: this book is a fast read ab...</td>\n",
              "      <td></td>\n",
              "      <td></td>\n",
              "      <td>love this book this book is a fast read about ...</td>\n",
              "    </tr>\n",
              "    <tr>\n",
              "      <th>3</th>\n",
              "      <td>1</td>\n",
              "      <td>A hugely enjoyable screen version of Rona Jaff...</td>\n",
              "      <td></td>\n",
              "      <td></td>\n",
              "      <td>A hugely enjoyable screen version of Rona Jaff...</td>\n",
              "    </tr>\n",
              "    <tr>\n",
              "      <th>4</th>\n",
              "      <td>0</td>\n",
              "      <td>What an uninteresting hodge-podge. It could ha...</td>\n",
              "      <td></td>\n",
              "      <td></td>\n",
              "      <td>What an uninteresting hodgepodge It could have...</td>\n",
              "    </tr>\n",
              "    <tr>\n",
              "      <th>5</th>\n",
              "      <td>1</td>\n",
              "      <td>@USAirways customer service at its best! Rache...</td>\n",
              "      <td></td>\n",
              "      <td></td>\n",
              "      <td>customer service at its best Rachel S  took g...</td>\n",
              "    </tr>\n",
              "    <tr>\n",
              "      <th>6</th>\n",
              "      <td>0</td>\n",
              "      <td>@VirginAmerica Is it normal to receive no repl...</td>\n",
              "      <td></td>\n",
              "      <td>baggageissues,smh</td>\n",
              "      <td>Is it normal to receive no reply from Central...</td>\n",
              "    </tr>\n",
              "    <tr>\n",
              "      <th>7</th>\n",
              "      <td>0</td>\n",
              "      <td>Imagine the worst skits from Saturday Night Li...</td>\n",
              "      <td></td>\n",
              "      <td></td>\n",
              "      <td>Imagine the worst skits from Saturday Night Li...</td>\n",
              "    </tr>\n",
              "    <tr>\n",
              "      <th>8</th>\n",
              "      <td>0</td>\n",
              "      <td>This is one of the worst films ever. I like ch...</td>\n",
              "      <td></td>\n",
              "      <td></td>\n",
              "      <td>This is one of the worst films ever I like che...</td>\n",
              "    </tr>\n",
              "    <tr>\n",
              "      <th>9</th>\n",
              "      <td>1</td>\n",
              "      <td>@JetBlue flight attendant Wendi on Flt 127 on ...</td>\n",
              "      <td>👍,👍</td>\n",
              "      <td></td>\n",
              "      <td>flight attendant Wendi on Flt on Newark to Or...</td>\n",
              "    </tr>\n",
              "    <tr>\n",
              "      <th>10</th>\n",
              "      <td>0</td>\n",
              "      <td>This film stars, among others, \"SlapChop\" Vinc...</td>\n",
              "      <td></td>\n",
              "      <td></td>\n",
              "      <td>This film stars among others SlapChop Vince Of...</td>\n",
              "    </tr>\n",
              "    <tr>\n",
              "      <th>11</th>\n",
              "      <td>0</td>\n",
              "      <td>@united This isn't a one time thing either! It...</td>\n",
              "      <td></td>\n",
              "      <td></td>\n",
              "      <td>This is not a one time thing either It is a s...</td>\n",
              "    </tr>\n",
              "    <tr>\n",
              "      <th>12</th>\n",
              "      <td>1</td>\n",
              "      <td>It seems a lot of IMDB comments on this film a...</td>\n",
              "      <td></td>\n",
              "      <td></td>\n",
              "      <td>It seems a lot of IMDB comments on this film a...</td>\n",
              "    </tr>\n",
              "    <tr>\n",
              "      <th>13</th>\n",
              "      <td>1</td>\n",
              "      <td>I always wondered what happened with that magi...</td>\n",
              "      <td></td>\n",
              "      <td></td>\n",
              "      <td>I always wondered what happened with that magi...</td>\n",
              "    </tr>\n",
              "    <tr>\n",
              "      <th>14</th>\n",
              "      <td>1</td>\n",
              "      <td>eye opening: when i think of poetry i put roet...</td>\n",
              "      <td></td>\n",
              "      <td></td>\n",
              "      <td>eye opening when i think of poetry i put roeth...</td>\n",
              "    </tr>\n",
              "    <tr>\n",
              "      <th>15</th>\n",
              "      <td>0</td>\n",
              "      <td>Mercy the movie, actually starts out as a some...</td>\n",
              "      <td></td>\n",
              "      <td></td>\n",
              "      <td>Mercy the movie actually starts out as a somew...</td>\n",
              "    </tr>\n",
              "    <tr>\n",
              "      <th>16</th>\n",
              "      <td>1</td>\n",
              "      <td>I like the good and evil battle. I liked Eddie...</td>\n",
              "      <td></td>\n",
              "      <td></td>\n",
              "      <td>I like the good and evil battle I liked Eddie ...</td>\n",
              "    </tr>\n",
              "    <tr>\n",
              "      <th>17</th>\n",
              "      <td>1</td>\n",
              "      <td>Unlike the previous poster, I liked the cellul...</td>\n",
              "      <td></td>\n",
              "      <td></td>\n",
              "      <td>Unlike the previous poster I liked the cellulo...</td>\n",
              "    </tr>\n",
              "    <tr>\n",
              "      <th>18</th>\n",
              "      <td>1</td>\n",
              "      <td>I was looking for this headset for a long time...</td>\n",
              "      <td></td>\n",
              "      <td></td>\n",
              "      <td>I was looking for this headset for a long time...</td>\n",
              "    </tr>\n",
              "    <tr>\n",
              "      <th>19</th>\n",
              "      <td>0</td>\n",
              "      <td>@united mobile apps need construction from the...</td>\n",
              "      <td></td>\n",
              "      <td></td>\n",
              "      <td>mobile apps need construction from the ground...</td>\n",
              "    </tr>\n",
              "    <tr>\n",
              "      <th>20</th>\n",
              "      <td>1</td>\n",
              "      <td>@united please give special thanks to Aaron in...</td>\n",
              "      <td></td>\n",
              "      <td></td>\n",
              "      <td>please give special thanks to Aaron in Tampa ...</td>\n",
              "    </tr>\n",
              "    <tr>\n",
              "      <th>21</th>\n",
              "      <td>1</td>\n",
              "      <td>I am appalled and dismayed that the Network ha...</td>\n",
              "      <td></td>\n",
              "      <td></td>\n",
              "      <td>I am appalled and dismayed that the Network ha...</td>\n",
              "    </tr>\n",
              "    <tr>\n",
              "      <th>22</th>\n",
              "      <td>1</td>\n",
              "      <td>Phone now holds charge like it did when it was...</td>\n",
              "      <td></td>\n",
              "      <td></td>\n",
              "      <td>Phone now holds charge like it did when it was...</td>\n",
              "    </tr>\n",
              "    <tr>\n",
              "      <th>23</th>\n",
              "      <td>1</td>\n",
              "      <td>I was never a big fan of television until I wa...</td>\n",
              "      <td></td>\n",
              "      <td></td>\n",
              "      <td>I was never a big fan of television until I wa...</td>\n",
              "    </tr>\n",
              "    <tr>\n",
              "      <th>24</th>\n",
              "      <td>0</td>\n",
              "      <td>awful product!: don't buy the badgemaker or th...</td>\n",
              "      <td></td>\n",
              "      <td></td>\n",
              "      <td>awful product do not buy the badgemaker or the...</td>\n",
              "    </tr>\n",
              "    <tr>\n",
              "      <th>25</th>\n",
              "      <td>0</td>\n",
              "      <td>Let me state this right from the start. I do N...</td>\n",
              "      <td></td>\n",
              "      <td></td>\n",
              "      <td>Let me state this right from the start I do NO...</td>\n",
              "    </tr>\n",
              "    <tr>\n",
              "      <th>26</th>\n",
              "      <td>1</td>\n",
              "      <td>@JetBlue it's been a while since I've angry tw...</td>\n",
              "      <td></td>\n",
              "      <td></td>\n",
              "      <td>it is been a while since I have angry tweeted...</td>\n",
              "    </tr>\n",
              "    <tr>\n",
              "      <th>27</th>\n",
              "      <td>1</td>\n",
              "      <td>@VirginAmerica got it. All set - Thanks!</td>\n",
              "      <td></td>\n",
              "      <td></td>\n",
              "      <td>got it All set  Thanks</td>\n",
              "    </tr>\n",
              "    <tr>\n",
              "      <th>28</th>\n",
              "      <td>1</td>\n",
              "      <td>astonishingly bright and easy to operate: i us...</td>\n",
              "      <td></td>\n",
              "      <td></td>\n",
              "      <td>astonishingly bright and easy to operate i use...</td>\n",
              "    </tr>\n",
              "    <tr>\n",
              "      <th>29</th>\n",
              "      <td>1</td>\n",
              "      <td>Exactly what I wanted.</td>\n",
              "      <td></td>\n",
              "      <td></td>\n",
              "      <td>Exactly what I wanted</td>\n",
              "    </tr>\n",
              "    <tr>\n",
              "      <th>30</th>\n",
              "      <td>1</td>\n",
              "      <td>This movie has remained in my mind for years a...</td>\n",
              "      <td></td>\n",
              "      <td></td>\n",
              "      <td>This movie has remained in my mind for years a...</td>\n",
              "    </tr>\n",
              "    <tr>\n",
              "      <th>31</th>\n",
              "      <td>0</td>\n",
              "      <td>I had heard good things about \"States of Grace...</td>\n",
              "      <td></td>\n",
              "      <td></td>\n",
              "      <td>I had heard good things about States of Grace ...</td>\n",
              "    </tr>\n",
              "    <tr>\n",
              "      <th>32</th>\n",
              "      <td>1</td>\n",
              "      <td>@AmericanAir I hope you like the photo :) http...</td>\n",
              "      <td></td>\n",
              "      <td></td>\n",
              "      <td>I hope you like the photo</td>\n",
              "    </tr>\n",
              "    <tr>\n",
              "      <th>33</th>\n",
              "      <td>1</td>\n",
              "      <td>One of John Ford's best films 'The Informer' d...</td>\n",
              "      <td></td>\n",
              "      <td></td>\n",
              "      <td>One of John Fords best films The Informer does...</td>\n",
              "    </tr>\n",
              "    <tr>\n",
              "      <th>34</th>\n",
              "      <td>1</td>\n",
              "      <td>CAT SOUP has two \"Hello Kitty\"-type kittens em...</td>\n",
              "      <td></td>\n",
              "      <td></td>\n",
              "      <td>CAT SOUP has two Hello Kittytype kittens embar...</td>\n",
              "    </tr>\n",
              "    <tr>\n",
              "      <th>35</th>\n",
              "      <td>0</td>\n",
              "      <td>I watched it with my mom and we were like...&lt;b...</td>\n",
              "      <td></td>\n",
              "      <td></td>\n",
              "      <td>I watched it with my mom and we were likeWhat ...</td>\n",
              "    </tr>\n",
              "    <tr>\n",
              "      <th>36</th>\n",
              "      <td>1</td>\n",
              "      <td>good product: i bought one and it worked so we...</td>\n",
              "      <td></td>\n",
              "      <td></td>\n",
              "      <td>good product i bought one and it worked so wel...</td>\n",
              "    </tr>\n",
              "    <tr>\n",
              "      <th>37</th>\n",
              "      <td>1</td>\n",
              "      <td>Alain Resnais films are uncanny in the way tha...</td>\n",
              "      <td></td>\n",
              "      <td></td>\n",
              "      <td>Alain Resnais films are uncanny in the way tha...</td>\n",
              "    </tr>\n",
              "    <tr>\n",
              "      <th>38</th>\n",
              "      <td>0</td>\n",
              "      <td>I can't believe I waste my time watching this ...</td>\n",
              "      <td></td>\n",
              "      <td></td>\n",
              "      <td>I cannot believe I waste my time watching this...</td>\n",
              "    </tr>\n",
              "    <tr>\n",
              "      <th>39</th>\n",
              "      <td>1</td>\n",
              "      <td>an eye-opener for all women, especially the ov...</td>\n",
              "      <td></td>\n",
              "      <td></td>\n",
              "      <td>an eyeopener for all women especially the over...</td>\n",
              "    </tr>\n",
              "    <tr>\n",
              "      <th>40</th>\n",
              "      <td>1</td>\n",
              "      <td>@united thank you</td>\n",
              "      <td></td>\n",
              "      <td></td>\n",
              "      <td>thank you</td>\n",
              "    </tr>\n",
              "    <tr>\n",
              "      <th>41</th>\n",
              "      <td>1</td>\n",
              "      <td>this was a gift! i was a hero! il volo was per...</td>\n",
              "      <td></td>\n",
              "      <td></td>\n",
              "      <td>this was a gift i was a hero il volo was perfe...</td>\n",
              "    </tr>\n",
              "    <tr>\n",
              "      <th>42</th>\n",
              "      <td>1</td>\n",
              "      <td>@JetBlue Thank you. I really would have prefer...</td>\n",
              "      <td></td>\n",
              "      <td></td>\n",
              "      <td>Thank you I really would have preferred Jet B...</td>\n",
              "    </tr>\n",
              "    <tr>\n",
              "      <th>43</th>\n",
              "      <td>0</td>\n",
              "      <td>@united accordingly? U dont respond at all</td>\n",
              "      <td></td>\n",
              "      <td></td>\n",
              "      <td>accordingly YOU do not respond at all</td>\n",
              "    </tr>\n",
              "    <tr>\n",
              "      <th>44</th>\n",
              "      <td>1</td>\n",
              "      <td>@SouthwestAir Deborah helped me💁</td>\n",
              "      <td>💁</td>\n",
              "      <td></td>\n",
              "      <td>Deborah helped me</td>\n",
              "    </tr>\n",
              "    <tr>\n",
              "      <th>45</th>\n",
              "      <td>0</td>\n",
              "      <td>man was this hard to watch! it was not at all ...</td>\n",
              "      <td></td>\n",
              "      <td></td>\n",
              "      <td>man was this hard to watch it was not at all f...</td>\n",
              "    </tr>\n",
              "    <tr>\n",
              "      <th>46</th>\n",
              "      <td>1</td>\n",
              "      <td>captain america/captain america 0: death too s...</td>\n",
              "      <td></td>\n",
              "      <td></td>\n",
              "      <td>captain americacaptain america death too soon ...</td>\n",
              "    </tr>\n",
              "    <tr>\n",
              "      <th>47</th>\n",
              "      <td>0</td>\n",
              "      <td>you'll be tromatised by the picture quality: f...</td>\n",
              "      <td></td>\n",
              "      <td></td>\n",
              "      <td>you will be tromatised by the picture quality ...</td>\n",
              "    </tr>\n",
              "    <tr>\n",
              "      <th>48</th>\n",
              "      <td>1</td>\n",
              "      <td>Full House came to me when I was about 9. I re...</td>\n",
              "      <td></td>\n",
              "      <td></td>\n",
              "      <td>Full House came to me when I was about I remem...</td>\n",
              "    </tr>\n",
              "    <tr>\n",
              "      <th>49</th>\n",
              "      <td>0</td>\n",
              "      <td>second cuisinart that has had an early demise:...</td>\n",
              "      <td></td>\n",
              "      <td></td>\n",
              "      <td>second cuisinart that has had an early demise ...</td>\n",
              "    </tr>\n",
              "  </tbody>\n",
              "</table>\n",
              "</div>\n",
              "      <button class=\"colab-df-convert\" onclick=\"convertToInteractive('df-1d147fa4-a50f-408d-ac27-af299f13ec5a')\"\n",
              "              title=\"Convert this dataframe to an interactive table.\"\n",
              "              style=\"display:none;\">\n",
              "        \n",
              "  <svg xmlns=\"http://www.w3.org/2000/svg\" height=\"24px\"viewBox=\"0 0 24 24\"\n",
              "       width=\"24px\">\n",
              "    <path d=\"M0 0h24v24H0V0z\" fill=\"none\"/>\n",
              "    <path d=\"M18.56 5.44l.94 2.06.94-2.06 2.06-.94-2.06-.94-.94-2.06-.94 2.06-2.06.94zm-11 1L8.5 8.5l.94-2.06 2.06-.94-2.06-.94L8.5 2.5l-.94 2.06-2.06.94zm10 10l.94 2.06.94-2.06 2.06-.94-2.06-.94-.94-2.06-.94 2.06-2.06.94z\"/><path d=\"M17.41 7.96l-1.37-1.37c-.4-.4-.92-.59-1.43-.59-.52 0-1.04.2-1.43.59L10.3 9.45l-7.72 7.72c-.78.78-.78 2.05 0 2.83L4 21.41c.39.39.9.59 1.41.59.51 0 1.02-.2 1.41-.59l7.78-7.78 2.81-2.81c.8-.78.8-2.07 0-2.86zM5.41 20L4 18.59l7.72-7.72 1.47 1.35L5.41 20z\"/>\n",
              "  </svg>\n",
              "      </button>\n",
              "      \n",
              "  <style>\n",
              "    .colab-df-container {\n",
              "      display:flex;\n",
              "      flex-wrap:wrap;\n",
              "      gap: 12px;\n",
              "    }\n",
              "\n",
              "    .colab-df-convert {\n",
              "      background-color: #E8F0FE;\n",
              "      border: none;\n",
              "      border-radius: 50%;\n",
              "      cursor: pointer;\n",
              "      display: none;\n",
              "      fill: #1967D2;\n",
              "      height: 32px;\n",
              "      padding: 0 0 0 0;\n",
              "      width: 32px;\n",
              "    }\n",
              "\n",
              "    .colab-df-convert:hover {\n",
              "      background-color: #E2EBFA;\n",
              "      box-shadow: 0px 1px 2px rgba(60, 64, 67, 0.3), 0px 1px 3px 1px rgba(60, 64, 67, 0.15);\n",
              "      fill: #174EA6;\n",
              "    }\n",
              "\n",
              "    [theme=dark] .colab-df-convert {\n",
              "      background-color: #3B4455;\n",
              "      fill: #D2E3FC;\n",
              "    }\n",
              "\n",
              "    [theme=dark] .colab-df-convert:hover {\n",
              "      background-color: #434B5C;\n",
              "      box-shadow: 0px 1px 3px 1px rgba(0, 0, 0, 0.15);\n",
              "      filter: drop-shadow(0px 1px 2px rgba(0, 0, 0, 0.3));\n",
              "      fill: #FFFFFF;\n",
              "    }\n",
              "  </style>\n",
              "\n",
              "      <script>\n",
              "        const buttonEl =\n",
              "          document.querySelector('#df-1d147fa4-a50f-408d-ac27-af299f13ec5a button.colab-df-convert');\n",
              "        buttonEl.style.display =\n",
              "          google.colab.kernel.accessAllowed ? 'block' : 'none';\n",
              "\n",
              "        async function convertToInteractive(key) {\n",
              "          const element = document.querySelector('#df-1d147fa4-a50f-408d-ac27-af299f13ec5a');\n",
              "          const dataTable =\n",
              "            await google.colab.kernel.invokeFunction('convertToInteractive',\n",
              "                                                     [key], {});\n",
              "          if (!dataTable) return;\n",
              "\n",
              "          const docLinkHtml = 'Like what you see? Visit the ' +\n",
              "            '<a target=\"_blank\" href=https://colab.research.google.com/notebooks/data_table.ipynb>data table notebook</a>'\n",
              "            + ' to learn more about interactive tables.';\n",
              "          element.innerHTML = '';\n",
              "          dataTable['output_type'] = 'display_data';\n",
              "          await google.colab.output.renderOutput(dataTable, element);\n",
              "          const docLink = document.createElement('div');\n",
              "          docLink.innerHTML = docLinkHtml;\n",
              "          element.appendChild(docLink);\n",
              "        }\n",
              "      </script>\n",
              "    </div>\n",
              "  </div>\n",
              "  "
            ]
          },
          "metadata": {},
          "execution_count": 11
        }
      ],
      "source": [
        "train_data.head(50) "
      ]
    },
    {
      "cell_type": "markdown",
      "metadata": {
        "id": "D3wIqzbzg1C0"
      },
      "source": [
        "# Model"
      ]
    },
    {
      "cell_type": "code",
      "source": [
        "from sklearn.svm import SVC\n",
        "from sklearn.feature_extraction.text import TfidfVectorizer\n",
        "from sklearn.metrics import plot_confusion_matrix, plot_roc_curve\n",
        "import matplotlib.pyplot as plt\n",
        "\n",
        "from sklearn.metrics import accuracy_score\n",
        "from sklearn.metrics import classification_report, confusion_matrix\n",
        "\n",
        "vectorizer = TfidfVectorizer()\n",
        "train_text = vectorizer.fit_transform(train_data['text_preprocessed'])\n",
        "test_text = vectorizer.transform(test_data['text_preprocessed'])\n",
        "valid_text = vectorizer.transform(valid_data['text_preprocessed'])\n"
      ],
      "metadata": {
        "id": "rGTAso-7_PqF"
      },
      "execution_count": 20,
      "outputs": []
    },
    {
      "cell_type": "code",
      "source": [
        "classifier = SVC()\n",
        "classifier.fit(train_text, train_data.score)"
      ],
      "metadata": {
        "colab": {
          "base_uri": "https://localhost:8080/"
        },
        "id": "QF1XA_Kg_gjZ",
        "outputId": "2743c474-9270-43fb-e544-ff2c8e90b7c8"
      },
      "execution_count": 21,
      "outputs": [
        {
          "output_type": "execute_result",
          "data": {
            "text/plain": [
              "SVC()"
            ]
          },
          "metadata": {},
          "execution_count": 21
        }
      ]
    },
    {
      "cell_type": "markdown",
      "metadata": {
        "id": "Pb7IefoUbQwh"
      },
      "source": [
        "# Prediction on test dataset"
      ]
    },
    {
      "cell_type": "code",
      "source": [
        "y_hat = classifier.predict(test_text)"
      ],
      "metadata": {
        "id": "9y_Dbe_uJE-6"
      },
      "execution_count": 22,
      "outputs": []
    },
    {
      "cell_type": "code",
      "source": [
        "accuracy_score(test_data['score'], y_hat)"
      ],
      "metadata": {
        "colab": {
          "base_uri": "https://localhost:8080/"
        },
        "id": "RdQRgMS7JlB0",
        "outputId": "130acb14-e13f-4dae-9165-f0db89625802"
      },
      "execution_count": 24,
      "outputs": [
        {
          "output_type": "execute_result",
          "data": {
            "text/plain": [
              "0.8492"
            ]
          },
          "metadata": {},
          "execution_count": 24
        }
      ]
    },
    {
      "cell_type": "code",
      "execution_count": 23,
      "metadata": {
        "id": "83tQ3ERwRTgP",
        "colab": {
          "base_uri": "https://localhost:8080/"
        },
        "outputId": "aaa1e8d6-8787-477a-8849-af132ccbfd48"
      },
      "outputs": [
        {
          "output_type": "stream",
          "name": "stdout",
          "text": [
            "              precision    recall  f1-score   support\n",
            "\n",
            "           0       0.83      0.87      0.85      1252\n",
            "           1       0.87      0.83      0.85      1248\n",
            "\n",
            "    accuracy                           0.85      2500\n",
            "   macro avg       0.85      0.85      0.85      2500\n",
            "weighted avg       0.85      0.85      0.85      2500\n",
            "\n"
          ]
        }
      ],
      "source": [
        "print(classification_report(test_data['score'], y_hat))"
      ]
    },
    {
      "cell_type": "code",
      "execution_count": 25,
      "metadata": {
        "id": "djMXLvXdRVKd",
        "colab": {
          "base_uri": "https://localhost:8080/"
        },
        "outputId": "215d4026-b469-4c7a-98d8-dabc8a5b52a3"
      },
      "outputs": [
        {
          "output_type": "execute_result",
          "data": {
            "text/plain": [
              "array([[1092,  160],\n",
              "       [ 217, 1031]])"
            ]
          },
          "metadata": {},
          "execution_count": 25
        }
      ],
      "source": [
        "cnf_matrix = confusion_matrix(test_data.score, y_hat)\n",
        "cnf_matrix"
      ]
    },
    {
      "cell_type": "code",
      "execution_count": 26,
      "metadata": {
        "id": "tkEbxgwORgOW",
        "colab": {
          "base_uri": "https://localhost:8080/",
          "height": 309
        },
        "outputId": "b5a34a35-e1aa-4e44-fdcf-90103f9541f4"
      },
      "outputs": [
        {
          "output_type": "display_data",
          "data": {
            "text/plain": [
              "<Figure size 432x288 with 1 Axes>"
            ],
            "image/png": "[encoded data removed]"
          },
          "metadata": {
            "needs_background": "light"
          }
        }
      ],
      "source": [
        "class_names = [\"negative\", \"positive\"]\n",
        "fig,ax = plt.subplots()\n",
        "\n",
        "\n",
        "sns.heatmap(pd.DataFrame(cnf_matrix), annot=True, cmap=\"Blues\", fmt=\"d\", cbar=False, xticklabels=class_names, yticklabels=class_names)\n",
        "ax.xaxis.set_label_position('top')\n",
        "plt.tight_layout()\n",
        "plt.ylabel('Actual sentiment')\n",
        "plt.xlabel('Predicted sentiment');"
      ]
    },
    {
      "cell_type": "markdown",
      "metadata": {
        "id": "s1zU5sYfbZ5G"
      },
      "source": [
        "# Prediction on Validation Dataset"
      ]
    },
    {
      "cell_type": "code",
      "execution_count": 27,
      "metadata": {
        "id": "jQYDzvBJRoHP"
      },
      "outputs": [],
      "source": [
        "X_valid, y_valid = valid_text, valid_data['score'].values"
      ]
    },
    {
      "cell_type": "code",
      "execution_count": 28,
      "metadata": {
        "id": "3cvpOB47bwaT"
      },
      "outputs": [],
      "source": [
        "y_hat_valid = classifier.predict(X_valid)"
      ]
    },
    {
      "cell_type": "code",
      "execution_count": 29,
      "metadata": {
        "id": "E7PtfCiObwaT",
        "colab": {
          "base_uri": "https://localhost:8080/"
        },
        "outputId": "ef63fa4f-533b-45d2-de44-095b77907d64"
      },
      "outputs": [
        {
          "output_type": "execute_result",
          "data": {
            "text/plain": [
              "0.8462"
            ]
          },
          "metadata": {},
          "execution_count": 29
        }
      ],
      "source": [
        "accuracy_score(y_valid, y_hat_valid)"
      ]
    },
    {
      "cell_type": "code",
      "execution_count": 30,
      "metadata": {
        "id": "JrNikQnmbwaT",
        "colab": {
          "base_uri": "https://localhost:8080/"
        },
        "outputId": "24b0ecbd-f098-4976-e937-45516b700337"
      },
      "outputs": [
        {
          "output_type": "stream",
          "name": "stdout",
          "text": [
            "              precision    recall  f1-score   support\n",
            "\n",
            "           0       0.82      0.88      0.85      2482\n",
            "           1       0.87      0.81      0.84      2518\n",
            "\n",
            "    accuracy                           0.85      5000\n",
            "   macro avg       0.85      0.85      0.85      5000\n",
            "weighted avg       0.85      0.85      0.85      5000\n",
            "\n"
          ]
        }
      ],
      "source": [
        "print(classification_report(y_valid, y_hat_valid))"
      ]
    },
    {
      "cell_type": "code",
      "execution_count": 31,
      "metadata": {
        "id": "CIdZ5KfIbwaU",
        "colab": {
          "base_uri": "https://localhost:8080/"
        },
        "outputId": "19fd107b-abd0-4483-9c68-3d050b8195cf"
      },
      "outputs": [
        {
          "output_type": "execute_result",
          "data": {
            "text/plain": [
              "array([[2184,  298],\n",
              "       [ 471, 2047]])"
            ]
          },
          "metadata": {},
          "execution_count": 31
        }
      ],
      "source": [
        "cnf_matrix = confusion_matrix(y_valid, y_hat_valid)\n",
        "cnf_matrix"
      ]
    },
    {
      "cell_type": "code",
      "execution_count": 32,
      "metadata": {
        "id": "LrqpLOKfbwaU",
        "colab": {
          "base_uri": "https://localhost:8080/",
          "height": 309
        },
        "outputId": "accf5f03-9791-40d6-a1bc-90b46e36d0e9"
      },
      "outputs": [
        {
          "output_type": "display_data",
          "data": {
            "text/plain": [
              "<Figure size 432x288 with 1 Axes>"
            ],
            "image/png": "[encoded data removed]"
          },
          "metadata": {
            "needs_background": "light"
          }
        }
      ],
      "source": [
        "class_names = [\"negative\", \"positive\"]\n",
        "fig,ax = plt.subplots()\n",
        "\n",
        "\n",
        "sns.heatmap(pd.DataFrame(cnf_matrix), annot=True, cmap=\"Blues\", fmt=\"d\", cbar=False, xticklabels=class_names, yticklabels=class_names)\n",
        "ax.xaxis.set_label_position('top')\n",
        "plt.tight_layout()\n",
        "plt.ylabel('Actual sentiment')\n",
        "plt.xlabel('Predicted sentiment');"
      ]
    },
    {
      "cell_type": "code",
      "execution_count": null,
      "metadata": {
        "id": "KxG-IGCccB85"
      },
      "outputs": [],
      "source": []
    }
  ],
  "metadata": {
    "colab": {
      "collapsed_sections": [],
      "provenance": [],
      "include_colab_link": true
    },
    "kernelspec": {
      "display_name": "Python 3",
      "name": "python3"
    },
    "language_info": {
      "name": "python"
    }
  },
  "nbformat": 4,
  "nbformat_minor": 0
}